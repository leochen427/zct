{
  "nbformat": 4,
  "nbformat_minor": 0,
  "metadata": {
    "colab": {
      "name": "“pytorch_caltech_birds_classification.ipynb”的副本",
      "version": "0.3.2",
      "provenance": [],
      "collapsed_sections": [],
      "include_colab_link": true
    },
    "kernelspec": {
      "name": "python3",
      "display_name": "Python 3"
    },
    "accelerator": "GPU"
  },
  "cells": [
    {
      "cell_type": "markdown",
      "metadata": {
        "id": "view-in-github",
        "colab_type": "text"
      },
      "source": [
        "<a href=\"https://colab.research.google.com/github/leochen427/zct/blob/master/%E2%80%9Cpytorch_caltech_birds_classification_ipynb%E2%80%9D%E7%9A%84%E5%89%AF%E6%9C%AC.ipynb\" target=\"_parent\"><img src=\"https://colab.research.google.com/assets/colab-badge.svg\" alt=\"Open In Colab\"/></a>"
      ]
    },
    {
      "cell_type": "markdown",
      "metadata": {
        "id": "e0_q4IGTHQfK",
        "colab_type": "text"
      },
      "source": [
        "# Train Test Split"
      ]
    },
    {
      "cell_type": "code",
      "metadata": {
        "id": "qjYh8ivP_kCO",
        "colab_type": "code",
        "outputId": "e3b08dcb-2531-4f2d-99ba-fc30633ea698",
        "colab": {
          "base_uri": "https://localhost:8080/",
          "height": 445
        }
      },
      "source": [
        "!pip install scikit-image==0.14.3"
      ],
      "execution_count": 0,
      "outputs": [
        {
          "output_type": "stream",
          "text": [
            "Collecting scikit-image==0.14.3\n",
            "\u001b[?25l  Downloading https://files.pythonhosted.org/packages/09/51/8ed3f857c2e7337b98fceeb6b37e3f39ca0d9159fa80bb2c79b958c564fc/scikit_image-0.14.3-cp36-cp36m-manylinux1_x86_64.whl (25.4MB)\n",
            "\u001b[K     |████████████████████████████████| 25.4MB 1.3MB/s \n",
            "\u001b[?25hRequirement already satisfied: pillow>=4.3.0 in /usr/local/lib/python3.6/dist-packages (from scikit-image==0.14.3) (4.3.0)\n",
            "Requirement already satisfied: cloudpickle>=0.2.1 in /usr/local/lib/python3.6/dist-packages (from scikit-image==0.14.3) (0.6.1)\n",
            "Requirement already satisfied: six>=1.10.0 in /usr/local/lib/python3.6/dist-packages (from scikit-image==0.14.3) (1.12.0)\n",
            "Requirement already satisfied: matplotlib>=2.0.0 in /usr/local/lib/python3.6/dist-packages (from scikit-image==0.14.3) (3.0.3)\n",
            "Requirement already satisfied: PyWavelets>=0.4.0 in /usr/local/lib/python3.6/dist-packages (from scikit-image==0.14.3) (1.0.3)\n",
            "Requirement already satisfied: networkx>=1.8 in /usr/local/lib/python3.6/dist-packages (from scikit-image==0.14.3) (2.3)\n",
            "Requirement already satisfied: scipy>=0.17.0 in /usr/local/lib/python3.6/dist-packages (from scikit-image==0.14.3) (1.3.1)\n",
            "Requirement already satisfied: olefile in /usr/local/lib/python3.6/dist-packages (from pillow>=4.3.0->scikit-image==0.14.3) (0.46)\n",
            "Requirement already satisfied: kiwisolver>=1.0.1 in /usr/local/lib/python3.6/dist-packages (from matplotlib>=2.0.0->scikit-image==0.14.3) (1.1.0)\n",
            "Requirement already satisfied: numpy>=1.10.0 in /usr/local/lib/python3.6/dist-packages (from matplotlib>=2.0.0->scikit-image==0.14.3) (1.16.4)\n",
            "Requirement already satisfied: cycler>=0.10 in /usr/local/lib/python3.6/dist-packages (from matplotlib>=2.0.0->scikit-image==0.14.3) (0.10.0)\n",
            "Requirement already satisfied: python-dateutil>=2.1 in /usr/local/lib/python3.6/dist-packages (from matplotlib>=2.0.0->scikit-image==0.14.3) (2.5.3)\n",
            "Requirement already satisfied: pyparsing!=2.0.4,!=2.1.2,!=2.1.6,>=2.0.1 in /usr/local/lib/python3.6/dist-packages (from matplotlib>=2.0.0->scikit-image==0.14.3) (2.4.2)\n",
            "Requirement already satisfied: decorator>=4.3.0 in /usr/local/lib/python3.6/dist-packages (from networkx>=1.8->scikit-image==0.14.3) (4.4.0)\n",
            "Requirement already satisfied: setuptools in /usr/local/lib/python3.6/dist-packages (from kiwisolver>=1.0.1->matplotlib>=2.0.0->scikit-image==0.14.3) (41.1.0)\n",
            "\u001b[31mERROR: albumentations 0.1.12 has requirement imgaug<0.2.7,>=0.2.5, but you'll have imgaug 0.2.9 which is incompatible.\u001b[0m\n",
            "Installing collected packages: scikit-image\n",
            "  Found existing installation: scikit-image 0.15.0\n",
            "    Uninstalling scikit-image-0.15.0:\n",
            "      Successfully uninstalled scikit-image-0.15.0\n",
            "Successfully installed scikit-image-0.14.3\n"
          ],
          "name": "stdout"
        }
      ]
    },
    {
      "cell_type": "code",
      "metadata": {
        "id": "AfRuSpY7C4cd",
        "colab_type": "code",
        "outputId": "0a8f31f3-275a-438c-93cc-e81e95943331",
        "colab": {
          "base_uri": "https://localhost:8080/",
          "height": 34
        }
      },
      "source": [
        "import skimage\n",
        "print(skimage.__version__)"
      ],
      "execution_count": 0,
      "outputs": [
        {
          "output_type": "stream",
          "text": [
            "0.14.3\n"
          ],
          "name": "stdout"
        }
      ]
    },
    {
      "cell_type": "code",
      "metadata": {
        "id": "fi2DHVMg-tX2",
        "colab_type": "code",
        "outputId": "3bd2d9df-afc5-4a72-a4fe-13b7cd224e7e",
        "colab": {
          "base_uri": "https://localhost:8080/",
          "height": 204
        }
      },
      "source": [
        "!wget --no-check-certificate \\\n",
        "    http://www.vision.caltech.edu/visipedia-data/CUB-200-2011/CUB_200_2011.tgz \\\n",
        "    -O /tmp/cats_and_dogs_filtered.zip"
      ],
      "execution_count": 0,
      "outputs": [
        {
          "output_type": "stream",
          "text": [
            "--2019-08-22 13:10:13--  http://www.vision.caltech.edu/visipedia-data/CUB-200-2011/CUB_200_2011.tgz\n",
            "Resolving www.vision.caltech.edu (www.vision.caltech.edu)... 34.208.54.77\n",
            "Connecting to www.vision.caltech.edu (www.vision.caltech.edu)|34.208.54.77|:80... connected.\n",
            "HTTP request sent, awaiting response... 200 OK\n",
            "Length: 1150585339 (1.1G) [application/x-tar]\n",
            "Saving to: ‘/tmp/cats_and_dogs_filtered.zip’\n",
            "\n",
            "/tmp/cats_and_dogs_ 100%[===================>]   1.07G  8.71MB/s    in 1m 47s  \n",
            "\n",
            "2019-08-22 13:12:00 (10.3 MB/s) - ‘/tmp/cats_and_dogs_filtered.zip’ saved [1150585339/1150585339]\n",
            "\n"
          ],
          "name": "stdout"
        }
      ]
    },
    {
      "cell_type": "code",
      "metadata": {
        "id": "ApYpsDvl_ipg",
        "colab_type": "code",
        "colab": {}
      },
      "source": [
        "!tar -zxf /tmp/cats_and_dogs_filtered.zip -C /tmp/"
      ],
      "execution_count": 0,
      "outputs": []
    },
    {
      "cell_type": "code",
      "metadata": {
        "id": "8LolthWeDfCD",
        "colab_type": "code",
        "colab": {}
      },
      "source": [
        "PATH = '/tmp/CUB_200_2011/'"
      ],
      "execution_count": 0,
      "outputs": []
    },
    {
      "cell_type": "code",
      "metadata": {
        "id": "lL8y8GfQAH8x",
        "colab_type": "code",
        "colab": {}
      },
      "source": [
        "read_line = open(PATH + 'train_test_split.txt')"
      ],
      "execution_count": 0,
      "outputs": []
    },
    {
      "cell_type": "code",
      "metadata": {
        "id": "T6MEszS8DqmW",
        "colab_type": "code",
        "colab": {}
      },
      "source": [
        "a = read_line.readlines()"
      ],
      "execution_count": 0,
      "outputs": []
    },
    {
      "cell_type": "code",
      "metadata": {
        "id": "2odUrsLRDtmh",
        "colab_type": "code",
        "outputId": "0278c3d0-ad44-449d-ffbd-b0500cb0b5db",
        "colab": {
          "base_uri": "https://localhost:8080/",
          "height": 34
        }
      },
      "source": [
        "a[0].split(' ')[1].split('\\n')[0]"
      ],
      "execution_count": 0,
      "outputs": [
        {
          "output_type": "execute_result",
          "data": {
            "text/plain": [
              "'0'"
            ]
          },
          "metadata": {
            "tags": []
          },
          "execution_count": 8
        }
      ]
    },
    {
      "cell_type": "code",
      "metadata": {
        "id": "eBmCyZFyDvIg",
        "colab_type": "code",
        "outputId": "0a5b36b1-5434-4f18-d4cf-cf04d9d7c399",
        "colab": {
          "base_uri": "https://localhost:8080/",
          "height": 34
        }
      },
      "source": [
        "\n",
        "classes = open(PATH + 'classes.txt')\n",
        "c_names = classes.readlines()\n",
        "len(c_names)"
      ],
      "execution_count": 0,
      "outputs": [
        {
          "output_type": "execute_result",
          "data": {
            "text/plain": [
              "200"
            ]
          },
          "metadata": {
            "tags": []
          },
          "execution_count": 9
        }
      ]
    },
    {
      "cell_type": "code",
      "metadata": {
        "id": "10Nv0jhBDy3G",
        "colab_type": "code",
        "colab": {}
      },
      "source": [
        "for i in range(len(c_names)):\n",
        "    c_names[i] = c_names[i].split(' ')[1]"
      ],
      "execution_count": 0,
      "outputs": []
    },
    {
      "cell_type": "code",
      "metadata": {
        "id": "BZD0ojgOD24r",
        "colab_type": "code",
        "outputId": "e5525dc8-a834-40eb-fd48-1038c02651a1",
        "colab": {
          "base_uri": "https://localhost:8080/",
          "height": 34
        }
      },
      "source": [
        "c_names[0].split('\\n')[0]"
      ],
      "execution_count": 0,
      "outputs": [
        {
          "output_type": "execute_result",
          "data": {
            "text/plain": [
              "'001.Black_footed_Albatross'"
            ]
          },
          "metadata": {
            "tags": []
          },
          "execution_count": 11
        }
      ]
    },
    {
      "cell_type": "code",
      "metadata": {
        "id": "39EjP6DtD6jD",
        "colab_type": "code",
        "colab": {}
      },
      "source": [
        "import os\n",
        "for i in range(len(c_names)):\n",
        "    dir_name = PATH + 'test/' + c_names[i].split('\\n')[0]\n",
        "    if not os.path.exists(dir_name):\n",
        "        os.makedirs(dir_name)"
      ],
      "execution_count": 0,
      "outputs": []
    },
    {
      "cell_type": "code",
      "metadata": {
        "id": "5Cqub_7Iqxup",
        "colab_type": "code",
        "colab": {}
      },
      "source": [
        "for i in range(len(c_names)):\n",
        "    dir_name = PATH + 'train/' + c_names[i].split('\\n')[0]\n",
        "    if not os.path.exists(dir_name):\n",
        "        os.makedirs(dir_name)"
      ],
      "execution_count": 0,
      "outputs": []
    },
    {
      "cell_type": "code",
      "metadata": {
        "id": "1MpApmuYFM1d",
        "colab_type": "code",
        "colab": {}
      },
      "source": [
        "import torch\n",
        "from torch import nn, optim\n",
        "from torch.optim import lr_scheduler\n",
        "from torch.autograd import Variable\n",
        "import torchvision\n",
        "import torch.utils.data as data\n",
        "from torchvision import datasets, models, transforms"
      ],
      "execution_count": 0,
      "outputs": []
    },
    {
      "cell_type": "code",
      "metadata": {
        "id": "bV54i10bFUlI",
        "colab_type": "code",
        "colab": {}
      },
      "source": [
        "train_dataset = datasets.ImageFolder(PATH + 'images')"
      ],
      "execution_count": 0,
      "outputs": []
    },
    {
      "cell_type": "code",
      "metadata": {
        "id": "nhIxYBbcFp0_",
        "colab_type": "code",
        "colab": {}
      },
      "source": [
        "from skimage import io"
      ],
      "execution_count": 0,
      "outputs": []
    },
    {
      "cell_type": "code",
      "metadata": {
        "id": "vqDvqf9-Fyvd",
        "colab_type": "code",
        "outputId": "b4009753-85cc-4be5-c537-cb862bdd5cd8",
        "colab": {
          "base_uri": "https://localhost:8080/",
          "height": 34
        }
      },
      "source": [
        "print(len(train_dataset.imgs))"
      ],
      "execution_count": 0,
      "outputs": [
        {
          "output_type": "stream",
          "text": [
            "11788\n"
          ],
          "name": "stdout"
        }
      ]
    },
    {
      "cell_type": "code",
      "metadata": {
        "id": "GG0Z5C52FzwJ",
        "colab_type": "code",
        "colab": {}
      },
      "source": [
        "for j in range(len(train_dataset.imgs)):\n",
        "    if(a[j].split(' ')[1].split('\\n')[0] == '0'):\n",
        "        path = train_dataset.imgs[j][0]\n",
        "        img = io.imread(path)\n",
        "        folder = train_dataset.imgs[j][0][9:].split('/')[-2]\n",
        "        img_name = train_dataset.imgs[j][0][9:].split('/')[-1]\n",
        "        io.imsave(PATH + 'test/' + folder + '/' + img_name, img)\n",
        "        os.remove(path)\n",
        "    else:\n",
        "        path = train_dataset.imgs[j][0]\n",
        "        img = io.imread(path)\n",
        "        folder = train_dataset.imgs[j][0][9:].split('/')[-2]\n",
        "        img_name = train_dataset.imgs[j][0][9:].split('/')[-1]\n",
        "        io.imsave(PATH + 'train/' + folder + '/' + img_name, img)\n",
        "        os.remove(path)"
      ],
      "execution_count": 0,
      "outputs": []
    },
    {
      "cell_type": "code",
      "metadata": {
        "id": "IRIhVF82GHEO",
        "colab_type": "code",
        "outputId": "dd5e06e8-757d-4660-cf98-1777550b1823",
        "colab": {
          "base_uri": "https://localhost:8080/",
          "height": 34
        }
      },
      "source": [
        "total = 0\n",
        "for path, dirs, files in os.walk(PATH + 'train'):\n",
        "    total += len(files)\n",
        "print('train images number:', total)"
      ],
      "execution_count": 0,
      "outputs": [
        {
          "output_type": "stream",
          "text": [
            "train images number: 5994\n"
          ],
          "name": "stdout"
        }
      ]
    },
    {
      "cell_type": "code",
      "metadata": {
        "id": "MuVzb2oOGpXZ",
        "colab_type": "code",
        "outputId": "2fda0b8b-2d37-498e-e11e-9ed15a0cc3d9",
        "colab": {
          "base_uri": "https://localhost:8080/",
          "height": 34
        }
      },
      "source": [
        "total = 0\n",
        "for path, dirs, files in os.walk(PATH + 'test'):\n",
        "    total += len(files)\n",
        "print('test images number:', total)"
      ],
      "execution_count": 0,
      "outputs": [
        {
          "output_type": "stream",
          "text": [
            "test images number: 5794\n"
          ],
          "name": "stdout"
        }
      ]
    },
    {
      "cell_type": "markdown",
      "metadata": {
        "id": "H8ugscLeHT3U",
        "colab_type": "text"
      },
      "source": [
        "# Model"
      ]
    },
    {
      "cell_type": "code",
      "metadata": {
        "id": "9_uSdFrNHDSE",
        "colab_type": "code",
        "colab": {}
      },
      "source": [
        "# here are the necessary imports\n",
        "from __future__ import print_function, division\n",
        "\n",
        "import torch\n",
        "import torch.nn as nn\n",
        "import torch.optim as optim\n",
        "from torch.autograd import Variable\n",
        "import numpy as np\n",
        "import torchvision\n",
        "from torchvision import datasets, models, transforms\n",
        "import matplotlib.pyplot as plt\n",
        "import time\n",
        "import os\n",
        "import seaborn as sns\n",
        "plt.ion()"
      ],
      "execution_count": 0,
      "outputs": []
    },
    {
      "cell_type": "code",
      "metadata": {
        "id": "t382Rrz7HYoQ",
        "colab_type": "code",
        "colab": {}
      },
      "source": [
        "# Data augmentation and normalization for training\n",
        "# Just normalization for validation\n",
        "data_transforms = {\n",
        "    'train': transforms.Compose([\n",
        "        transforms.Resize(256),\n",
        "        transforms.RandomRotation(45),\n",
        "        transforms.RandomResizedCrop(224),\n",
        "        transforms.RandomHorizontalFlip(),\n",
        "        transforms.ToTensor(),\n",
        "        transforms.Normalize([0.485, 0.456, 0.406], [0.229, 0.224, 0.225])\n",
        "    ]),\n",
        "    'test': transforms.Compose([\n",
        "        transforms.Resize(256),\n",
        "        transforms.CenterCrop(224),\n",
        "        transforms.ToTensor(),\n",
        "        transforms.Normalize([0.485, 0.456, 0.406], [0.229, 0.224, 0.225])\n",
        "    ]),\n",
        "}\n",
        "\n",
        "\n",
        "# loading datasets with PyTorch ImageFolder\n",
        "image_datasets = {x: datasets.ImageFolder(os.path.join(PATH, x),\n",
        "                                          data_transforms[x])\n",
        "                  for x in ['train', 'test']}\n",
        "# defining data loaders to load data using image_datasets and transforms, here we also specify batch size for the mini batch\n",
        "dataloders = {x: torch.utils.data.DataLoader(image_datasets[x], batch_size=8,\n",
        "                                             shuffle=True, num_workers=4)\n",
        "              for x in ['train', 'test']}\n",
        "dataset_sizes = {x: len(image_datasets[x]) for x in ['train', 'test']}\n",
        "class_names = image_datasets['train'].classes\n",
        "\n",
        "use_gpu = torch.cuda.is_available()"
      ],
      "execution_count": 0,
      "outputs": []
    },
    {
      "cell_type": "code",
      "metadata": {
        "id": "na5yE-iFHpS3",
        "colab_type": "code",
        "outputId": "44151d46-75e0-4569-f50d-a7f8ea0e5458",
        "colab": {
          "base_uri": "https://localhost:8080/",
          "height": 34
        }
      },
      "source": [
        "dataset_sizes"
      ],
      "execution_count": 0,
      "outputs": [
        {
          "output_type": "execute_result",
          "data": {
            "text/plain": [
              "{'test': 5794, 'train': 5994}"
            ]
          },
          "metadata": {
            "tags": []
          },
          "execution_count": 23
        }
      ]
    },
    {
      "cell_type": "code",
      "metadata": {
        "id": "5EVY_mc0ILiR",
        "colab_type": "code",
        "outputId": "011a850d-1eb1-4743-9bb9-7b952a3cc3a1",
        "colab": {
          "base_uri": "https://localhost:8080/",
          "height": 106
        }
      },
      "source": [
        "def imshow(inp, title=None):\n",
        "    \"\"\"Imshow for Tensor.\"\"\"\n",
        "    inp = inp.numpy().transpose((1, 2, 0))\n",
        "    mean = np.array([0.485, 0.456, 0.406])\n",
        "    std = np.array([0.229, 0.224, 0.225])\n",
        "    inp = std * inp + mean\n",
        "    inp = np.clip(inp, 0, 1)\n",
        "    plt.imshow(inp)\n",
        "    if title is not None:\n",
        "        plt.title(title)\n",
        "    plt.pause(0.001)  # pause a bit so that plots are updated\n",
        "\n",
        "\n",
        "# Get a batch of training data\n",
        "inputs, classes = next(iter(dataloders['train']))\n",
        "\n",
        "# Make a grid from batch\n",
        "out = torchvision.utils.make_grid(inputs)\n",
        "\n",
        "imshow(out, title=[class_names[x] for x in classes])"
      ],
      "execution_count": 0,
      "outputs": [
        {
          "output_type": "display_data",
          "data": {
            "image/png": "[encoded data removed]",
            "text/plain": [
              "<Figure size 432x288 with 1 Axes>"
            ]
          },
          "metadata": {
            "tags": []
          }
        }
      ]
    },
    {
      "cell_type": "code",
      "metadata": {
        "id": "IkNX504W5Ilr",
        "colab_type": "code",
        "outputId": "a82e1407-e2dc-4ba4-e9b3-cadde515e10d",
        "colab": {
          "base_uri": "https://localhost:8080/",
          "height": 122
        }
      },
      "source": [
        "from google.colab import drive\n",
        "drive.mount('/gdrive')"
      ],
      "execution_count": 0,
      "outputs": [
        {
          "output_type": "stream",
          "text": [
            "Go to this URL in a browser: https://accounts.google.com/o/oauth2/auth?client_id=947318989803-6bn6qk8qdgf4n4g3pfee6491hc0brc4i.apps.googleusercontent.com&redirect_uri=urn%3Aietf%3Awg%3Aoauth%3A2.0%3Aoob&scope=email%20https%3A%2F%2Fwww.googleapis.com%2Fauth%2Fdocs.test%20https%3A%2F%2Fwww.googleapis.com%2Fauth%2Fdrive%20https%3A%2F%2Fwww.googleapis.com%2Fauth%2Fdrive.photos.readonly%20https%3A%2F%2Fwww.googleapis.com%2Fauth%2Fpeopleapi.readonly&response_type=code\n",
            "\n",
            "Enter your authorization code:\n",
            "··········\n",
            "Mounted at /gdrive\n"
          ],
          "name": "stdout"
        }
      ]
    },
    {
      "cell_type": "code",
      "metadata": {
        "id": "BD5QsQai5oyY",
        "colab_type": "code",
        "colab": {}
      },
      "source": [
        "G_DRIVE = '/gdrive/My Drive/'"
      ],
      "execution_count": 0,
      "outputs": []
    },
    {
      "cell_type": "code",
      "metadata": {
        "id": "GF-Z0PuRIPO_",
        "colab_type": "code",
        "colab": {}
      },
      "source": [
        "def train_model(model, criterion, optimizer, num_epochs=10):\n",
        "    since = time.time()\n",
        "\n",
        "    best_model_wts = model.state_dict()\n",
        "    best_acc = 0.0\n",
        "\n",
        "    for epoch in range(num_epochs):\n",
        "        print('Epoch {}/{}'.format(epoch, num_epochs - 1))\n",
        "        print('-' * 10)\n",
        "\n",
        "        # Each epoch has a training and validation phase\n",
        "        for phase in ['train', 'test']:\n",
        "            if phase == 'train':\n",
        "                #scheduler.step()\n",
        "                model.train(True)  # Set model to training mode\n",
        "            else:\n",
        "                model.train(False)  # Set model to evaluate mode\n",
        "\n",
        "            running_loss = 0.0\n",
        "            running_corrects = 0\n",
        "\n",
        "            # Iterate over data.\n",
        "            for data in dataloders[phase]:\n",
        "                # get the inputs\n",
        "                inputs, labels = data\n",
        "\n",
        "                # wrap them in Variable\n",
        "                if use_gpu:\n",
        "                    inputs = Variable(inputs.cuda())\n",
        "                    labels = Variable(labels.cuda())\n",
        "                else:\n",
        "                    inputs, labels = Variable(inputs), Variable(labels)\n",
        "\n",
        "                # zero the parameter gradients\n",
        "                optimizer.zero_grad()\n",
        "\n",
        "                # forward\n",
        "                outputs = model(inputs)\n",
        "                \n",
        "                _, preds = torch.max(outputs.data, 1)\n",
        "                loss = criterion(outputs, labels)\n",
        "\n",
        "                # backward + optimize only if in training phase\n",
        "                if phase == 'train':\n",
        "                    loss.backward()\n",
        "                    optimizer.step()\n",
        "\n",
        "                # statistics\n",
        "                running_loss += loss.item()\n",
        "                running_corrects += torch.sum(preds == labels.data).item()\n",
        "\n",
        "            epoch_loss = running_loss / dataset_sizes[phase]\n",
        "            epoch_acc = running_corrects / dataset_sizes[phase]\n",
        "\n",
        "            print('{} Loss: {:.4f} Acc: {:.4f}'.format(\n",
        "                phase, epoch_loss, epoch_acc))\n",
        "\n",
        "            # deep copy the model\n",
        "            if phase == 'test' and epoch_acc > best_acc:\n",
        "                best_acc = epoch_acc\n",
        "                best_model_wts = model.state_dict()\n",
        "                state = {'model':model_ft.state_dict(),'optim':optimizer_ft.state_dict()}\n",
        "                torch.save(state, G_DRIVE + 'point_resnet_best.pth')\n",
        "\n",
        "        print()\n",
        "\n",
        "    time_elapsed = time.time() - since\n",
        "    print('Training complete in {:.0f}m {:.0f}s'.format(\n",
        "        time_elapsed // 60, time_elapsed % 60))\n",
        "    print('Best test Acc: {:4f}'.format(best_acc))\n",
        "\n",
        "    # load best model weights\n",
        "    model.load_state_dict(best_model_wts)\n",
        "    return model"
      ],
      "execution_count": 0,
      "outputs": []
    },
    {
      "cell_type": "code",
      "metadata": {
        "id": "OqHSPFFlIW4m",
        "colab_type": "code",
        "colab": {}
      },
      "source": [
        "def visualize_model(model, num_images=8):\n",
        "    images_so_far = 0\n",
        "    fig = plt.figure()\n",
        "    \n",
        "\n",
        "    for i, data in enumerate(dataloders['test']):\n",
        "        inputs, labels = data\n",
        "        #print(labels)\n",
        "        if use_gpu:\n",
        "            inputs, labels = Variable(inputs.cuda()), Variable(labels.cuda())\n",
        "        else:\n",
        "            inputs, labels = Variable(inputs), Variable(labels)\n",
        "        #print(labels)\n",
        "        #_, lab = torch.max(labels.data, 1)\n",
        "        outputs = model(inputs)\n",
        "        #print(outputs)\n",
        "        _, preds = torch.max(outputs.data, 1)\n",
        "        #print(preds)\n",
        "\n",
        "        for j in range(inputs.size()[0]):\n",
        "            images_so_far += 1\n",
        "            ax = plt.subplot(num_images//2, 2, images_so_far)\n",
        "            ax.axis('off')\n",
        "            ax.set_title('class: {} predicted: {}'.format(class_names[labels.data[j]], class_names[preds[j]]))\n",
        "            imshow(inputs.cpu().data[j])\n",
        "\n",
        "            if images_so_far == num_images:\n",
        "                return"
      ],
      "execution_count": 0,
      "outputs": []
    },
    {
      "cell_type": "code",
      "metadata": {
        "id": "FJJTyYNGItzk",
        "colab_type": "code",
        "outputId": "31ec8128-1064-4572-9cd4-7d7232f4c01a",
        "colab": {
          "base_uri": "https://localhost:8080/",
          "height": 51
        }
      },
      "source": [
        "model_ft = models.resnet50(pretrained=True) # loading a pre-trained(trained on image net) resnet18 model from torchvision models\n",
        "num_ftrs = model_ft.fc.in_features\n",
        "model_ft.fc = nn.Linear(num_ftrs, 200)      # changing the last layer for this dataset by setting last layer neurons to 200 as this dataset has 200 categories\n",
        " \n",
        "if use_gpu:                                 # if gpu is available then use it\n",
        "    model_ft = model_ft.cuda()       \n",
        "# model_ft = model_ft.float()\n",
        "criterion = nn.CrossEntropyLoss()           # defining loss function\n",
        "\n",
        "# Observe that all parameters are being optimized\n",
        "optimizer_ft = optim.SGD(model_ft.parameters(), lr=0.01, momentum=0.9)\n",
        "# optimizer_ft = optim.Adam(model_ft.parameters())"
      ],
      "execution_count": 0,
      "outputs": [
        {
          "output_type": "stream",
          "text": [
            "Downloading: \"https://download.pytorch.org/models/resnet50-19c8e357.pth\" to /root/.cache/torch/checkpoints/resnet50-19c8e357.pth\n",
            "100%|██████████| 102502400/102502400 [00:04<00:00, 25625534.32it/s]\n"
          ],
          "name": "stderr"
        }
      ]
    },
    {
      "cell_type": "code",
      "metadata": {
        "id": "GfghLbwsunYh",
        "colab_type": "code",
        "colab": {}
      },
      "source": [
        "if os.path.exists(G_DRIVE + 'point_resnet_best.pth'):\n",
        "    checkpoint = torch.load(G_DRIVE + 'point_resnet_best.pth')\n",
        "    model_ft.load_state_dict(checkpoint['model'])\n",
        "    optimizer_ft.load_state_dict(checkpoint['optim'])"
      ],
      "execution_count": 0,
      "outputs": []
    },
    {
      "cell_type": "code",
      "metadata": {
        "id": "9i1u4RSiIwNE",
        "colab_type": "code",
        "outputId": "b26eb24f-7263-42e4-f870-1f8d4877e5b2",
        "colab": {
          "base_uri": "https://localhost:8080/",
          "height": 1000
        }
      },
      "source": [
        "model_ft = train_model(model_ft, criterion, optimizer_ft, num_epochs=75)"
      ],
      "execution_count": 0,
      "outputs": [
        {
          "output_type": "stream",
          "text": [
            "Epoch 0/74\n",
            "----------\n",
            "train Loss: 0.6671 Acc: 0.0070\n",
            "test Loss: 0.6844 Acc: 0.0138\n",
            "\n",
            "Epoch 1/74\n",
            "----------\n",
            "train Loss: 0.6348 Acc: 0.0125\n",
            "test Loss: 0.6668 Acc: 0.0195\n",
            "\n",
            "Epoch 2/74\n",
            "----------\n",
            "train Loss: 0.6245 Acc: 0.0153\n",
            "test Loss: 0.8650 Acc: 0.0287\n",
            "\n",
            "Epoch 3/74\n",
            "----------\n",
            "train Loss: 0.6078 Acc: 0.0244\n",
            "test Loss: 0.5878 Acc: 0.0380\n",
            "\n",
            "Epoch 4/74\n",
            "----------\n",
            "train Loss: 0.5820 Acc: 0.0397\n",
            "test Loss: 0.6866 Acc: 0.0597\n",
            "\n",
            "Epoch 5/74\n",
            "----------\n",
            "train Loss: 0.5538 Acc: 0.0604\n",
            "test Loss: 0.5330 Acc: 0.0889\n",
            "\n",
            "Epoch 6/74\n",
            "----------\n",
            "train Loss: 0.5350 Acc: 0.0701\n",
            "test Loss: 0.5228 Acc: 0.1029\n",
            "\n",
            "Epoch 7/74\n",
            "----------\n",
            "train Loss: 0.5066 Acc: 0.1019\n",
            "test Loss: 0.6742 Acc: 0.1029\n",
            "\n",
            "Epoch 8/74\n",
            "----------\n",
            "train Loss: 0.4781 Acc: 0.1325\n",
            "test Loss: 0.4299 Acc: 0.1949\n",
            "\n",
            "Epoch 9/74\n",
            "----------\n",
            "train Loss: 0.4563 Acc: 0.1542\n",
            "test Loss: 0.4071 Acc: 0.2220\n",
            "\n",
            "Epoch 10/74\n",
            "----------\n",
            "train Loss: 0.4324 Acc: 0.1904\n",
            "test Loss: 0.4121 Acc: 0.2480\n",
            "\n",
            "Epoch 11/74\n",
            "----------\n",
            "train Loss: 0.4103 Acc: 0.2172\n",
            "test Loss: 0.3783 Acc: 0.2691\n",
            "\n",
            "Epoch 12/74\n",
            "----------\n",
            "train Loss: 0.3945 Acc: 0.2459\n",
            "test Loss: 0.3406 Acc: 0.3398\n",
            "\n",
            "Epoch 13/74\n",
            "----------\n",
            "train Loss: 0.3780 Acc: 0.2653\n",
            "test Loss: 0.3871 Acc: 0.3000\n",
            "\n",
            "Epoch 14/74\n",
            "----------\n",
            "train Loss: 0.3650 Acc: 0.2931\n",
            "test Loss: 0.3243 Acc: 0.3773\n",
            "\n",
            "Epoch 15/74\n",
            "----------\n",
            "train Loss: 0.3458 Acc: 0.3208\n",
            "test Loss: 0.3049 Acc: 0.4009\n",
            "\n",
            "Epoch 16/74\n",
            "----------\n",
            "train Loss: 0.3289 Acc: 0.3585\n",
            "test Loss: 0.2887 Acc: 0.4223\n",
            "\n",
            "Epoch 17/74\n",
            "----------\n",
            "train Loss: 0.3129 Acc: 0.3719\n",
            "test Loss: 0.2718 Acc: 0.4527\n",
            "\n",
            "Epoch 18/74\n",
            "----------\n",
            "train Loss: 0.3023 Acc: 0.3959\n",
            "test Loss: 0.2698 Acc: 0.4525\n",
            "\n",
            "Epoch 19/74\n",
            "----------\n",
            "train Loss: 0.2997 Acc: 0.3986\n",
            "test Loss: 0.2822 Acc: 0.4739\n",
            "\n",
            "Epoch 20/74\n",
            "----------\n",
            "train Loss: 0.2800 Acc: 0.4433\n",
            "test Loss: 0.2474 Acc: 0.5047\n",
            "\n",
            "Epoch 21/74\n",
            "----------\n",
            "train Loss: 0.2759 Acc: 0.4466\n",
            "test Loss: 0.2542 Acc: 0.5026\n",
            "\n",
            "Epoch 22/74\n",
            "----------\n",
            "train Loss: 0.2615 Acc: 0.4700\n",
            "test Loss: 0.2357 Acc: 0.5400\n",
            "\n",
            "Epoch 23/74\n",
            "----------\n",
            "train Loss: 0.2554 Acc: 0.4850\n",
            "test Loss: 0.2495 Acc: 0.5333\n",
            "\n",
            "Epoch 24/74\n",
            "----------\n",
            "train Loss: 0.2441 Acc: 0.4955\n",
            "test Loss: 0.2501 Acc: 0.5190\n",
            "\n",
            "Epoch 25/74\n",
            "----------\n",
            "train Loss: 0.2364 Acc: 0.5105\n",
            "test Loss: 0.2137 Acc: 0.5587\n",
            "\n",
            "Epoch 26/74\n",
            "----------\n",
            "train Loss: 0.2294 Acc: 0.5342\n",
            "test Loss: 0.2171 Acc: 0.5521\n",
            "\n",
            "Epoch 27/74\n",
            "----------\n",
            "train Loss: 0.2262 Acc: 0.5350\n",
            "test Loss: 0.2191 Acc: 0.5763\n",
            "\n",
            "Epoch 28/74\n",
            "----------\n",
            "train Loss: 0.2162 Acc: 0.5544\n",
            "test Loss: 0.2316 Acc: 0.5595\n",
            "\n",
            "Epoch 29/74\n",
            "----------\n",
            "train Loss: 0.2096 Acc: 0.5594\n",
            "test Loss: 0.2144 Acc: 0.5915\n",
            "\n",
            "Epoch 30/74\n",
            "----------\n",
            "train Loss: 0.2023 Acc: 0.5853\n",
            "test Loss: 0.2215 Acc: 0.5834\n",
            "\n",
            "Epoch 31/74\n",
            "----------\n",
            "train Loss: 0.2024 Acc: 0.5684\n",
            "test Loss: 0.2006 Acc: 0.6015\n",
            "\n",
            "Epoch 32/74\n",
            "----------\n",
            "train Loss: 0.1940 Acc: 0.5969\n",
            "test Loss: 0.2063 Acc: 0.6065\n",
            "\n",
            "Epoch 33/74\n",
            "----------\n",
            "train Loss: 0.1912 Acc: 0.5983\n",
            "test Loss: 0.2011 Acc: 0.6072\n",
            "\n",
            "Epoch 34/74\n",
            "----------\n",
            "train Loss: 0.1886 Acc: 0.6068\n",
            "test Loss: 0.1865 Acc: 0.6414\n",
            "\n",
            "Epoch 35/74\n",
            "----------\n",
            "train Loss: 0.1819 Acc: 0.6206\n",
            "test Loss: 0.1928 Acc: 0.6395\n",
            "\n",
            "Epoch 36/74\n",
            "----------\n",
            "train Loss: 0.1811 Acc: 0.6256\n",
            "test Loss: 0.1969 Acc: 0.6338\n",
            "\n",
            "Epoch 37/74\n",
            "----------\n",
            "train Loss: 0.1765 Acc: 0.6343\n",
            "test Loss: 0.1886 Acc: 0.6339\n",
            "\n",
            "Epoch 38/74\n",
            "----------\n",
            "train Loss: 0.1713 Acc: 0.6361\n",
            "test Loss: 0.1866 Acc: 0.6493\n",
            "\n",
            "Epoch 39/74\n",
            "----------\n",
            "train Loss: 0.1644 Acc: 0.6528\n",
            "test Loss: 0.2016 Acc: 0.6282\n",
            "\n",
            "Epoch 40/74\n",
            "----------\n",
            "train Loss: 0.1628 Acc: 0.6660\n",
            "test Loss: 0.1886 Acc: 0.6393\n",
            "\n",
            "Epoch 41/74\n",
            "----------\n",
            "train Loss: 0.1647 Acc: 0.6590\n",
            "test Loss: 0.2041 Acc: 0.6357\n",
            "\n",
            "Epoch 42/74\n",
            "----------\n",
            "train Loss: 0.1565 Acc: 0.6773\n",
            "test Loss: 0.1982 Acc: 0.6372\n",
            "\n",
            "Epoch 43/74\n",
            "----------\n",
            "train Loss: 0.1568 Acc: 0.6752\n",
            "test Loss: 0.2184 Acc: 0.6058\n",
            "\n",
            "Epoch 44/74\n",
            "----------\n",
            "train Loss: 0.1511 Acc: 0.6783\n",
            "test Loss: 0.1932 Acc: 0.6376\n",
            "\n",
            "Epoch 45/74\n",
            "----------\n",
            "train Loss: 0.1476 Acc: 0.6962\n",
            "test Loss: 0.2002 Acc: 0.6403\n",
            "\n",
            "Epoch 46/74\n",
            "----------\n",
            "train Loss: 0.1462 Acc: 0.6949\n",
            "test Loss: 0.1945 Acc: 0.6550\n",
            "\n",
            "Epoch 47/74\n",
            "----------\n",
            "train Loss: 0.1372 Acc: 0.7181\n",
            "test Loss: 0.1930 Acc: 0.6491\n",
            "\n",
            "Epoch 48/74\n",
            "----------\n",
            "train Loss: 0.1392 Acc: 0.7094\n",
            "test Loss: 0.2017 Acc: 0.6462\n",
            "\n",
            "Epoch 49/74\n",
            "----------\n",
            "train Loss: 0.1402 Acc: 0.7075\n",
            "test Loss: 0.2263 Acc: 0.6248\n",
            "\n",
            "Epoch 50/74\n",
            "----------\n",
            "train Loss: 0.1391 Acc: 0.7089\n",
            "test Loss: 0.1859 Acc: 0.6709\n",
            "\n",
            "Epoch 51/74\n",
            "----------\n",
            "train Loss: 0.1375 Acc: 0.7109\n",
            "test Loss: 0.2083 Acc: 0.6389\n",
            "\n",
            "Epoch 52/74\n",
            "----------\n",
            "train Loss: 0.1307 Acc: 0.7256\n",
            "test Loss: 0.1919 Acc: 0.6685\n",
            "\n",
            "Epoch 53/74\n",
            "----------\n",
            "train Loss: 0.1245 Acc: 0.7352\n",
            "test Loss: 0.1900 Acc: 0.6612\n",
            "\n",
            "Epoch 54/74\n",
            "----------\n",
            "train Loss: 0.1290 Acc: 0.7376\n",
            "test Loss: 0.1893 Acc: 0.6740\n",
            "\n",
            "Epoch 55/74\n",
            "----------\n",
            "train Loss: 0.1252 Acc: 0.7357\n",
            "test Loss: 0.1978 Acc: 0.6710\n",
            "\n",
            "Epoch 56/74\n",
            "----------\n",
            "train Loss: 0.1232 Acc: 0.7454\n",
            "test Loss: 0.1923 Acc: 0.6754\n",
            "\n",
            "Epoch 57/74\n",
            "----------\n",
            "train Loss: 0.1210 Acc: 0.7454\n",
            "test Loss: 0.1960 Acc: 0.6729\n",
            "\n",
            "Epoch 58/74\n",
            "----------\n",
            "train Loss: 0.1178 Acc: 0.7556\n",
            "test Loss: 0.1904 Acc: 0.6697\n",
            "\n",
            "Epoch 59/74\n",
            "----------\n",
            "train Loss: 0.1211 Acc: 0.7467\n",
            "test Loss: 0.1983 Acc: 0.6752\n",
            "\n",
            "Epoch 60/74\n",
            "----------\n",
            "train Loss: 0.1150 Acc: 0.7629\n",
            "test Loss: 0.1935 Acc: 0.6812\n",
            "\n",
            "Epoch 61/74\n",
            "----------\n",
            "train Loss: 0.1178 Acc: 0.7563\n",
            "test Loss: 0.2092 Acc: 0.6567\n",
            "\n",
            "Epoch 62/74\n",
            "----------\n",
            "train Loss: 0.1136 Acc: 0.7653\n",
            "test Loss: 0.2099 Acc: 0.6769\n",
            "\n",
            "Epoch 63/74\n",
            "----------\n",
            "train Loss: 0.1096 Acc: 0.7751\n",
            "test Loss: 0.2049 Acc: 0.6679\n",
            "\n",
            "Epoch 64/74\n",
            "----------\n",
            "train Loss: 0.1055 Acc: 0.7804\n",
            "test Loss: 0.2126 Acc: 0.6721\n",
            "\n",
            "Epoch 65/74\n",
            "----------\n",
            "train Loss: 0.1085 Acc: 0.7739\n",
            "test Loss: 0.2171 Acc: 0.6474\n",
            "\n",
            "Epoch 66/74\n",
            "----------\n",
            "train Loss: 0.1081 Acc: 0.7699\n",
            "test Loss: 0.2032 Acc: 0.6645\n",
            "\n",
            "Epoch 67/74\n",
            "----------\n",
            "train Loss: 0.1063 Acc: 0.7803\n",
            "test Loss: 0.2142 Acc: 0.6702\n",
            "\n",
            "Epoch 68/74\n",
            "----------\n",
            "train Loss: 0.1002 Acc: 0.7893\n",
            "test Loss: 0.2121 Acc: 0.6648\n",
            "\n",
            "Epoch 69/74\n",
            "----------\n",
            "train Loss: 0.1046 Acc: 0.7783\n",
            "test Loss: 0.2180 Acc: 0.6584\n",
            "\n",
            "Epoch 70/74\n",
            "----------\n",
            "train Loss: 0.1030 Acc: 0.7898\n",
            "test Loss: 0.1918 Acc: 0.6905\n",
            "\n",
            "Epoch 71/74\n",
            "----------\n",
            "train Loss: 0.0984 Acc: 0.7943\n",
            "test Loss: 0.2133 Acc: 0.6750\n",
            "\n",
            "Epoch 72/74\n",
            "----------\n",
            "train Loss: 0.0958 Acc: 0.7985\n",
            "test Loss: 0.1864 Acc: 0.6892\n",
            "\n",
            "Epoch 73/74\n",
            "----------\n",
            "train Loss: 0.0954 Acc: 0.8001\n",
            "test Loss: 0.1946 Acc: 0.6802\n",
            "\n",
            "Epoch 74/74\n",
            "----------\n",
            "train Loss: 0.0958 Acc: 0.8036\n",
            "test Loss: 0.1938 Acc: 0.6923\n",
            "\n",
            "Training complete in 131m 2s\n",
            "Best test Acc: 0.692268\n"
          ],
          "name": "stdout"
        }
      ]
    },
    {
      "cell_type": "code",
      "metadata": {
        "id": "OCuRHECYI8Lt",
        "colab_type": "code",
        "outputId": "23f59422-72af-40b4-a641-1813474224da",
        "colab": {
          "base_uri": "https://localhost:8080/",
          "height": 769
        }
      },
      "source": [
        "visualize_model(model_ft)"
      ],
      "execution_count": 0,
      "outputs": [
        {
          "output_type": "display_data",
          "data": {
            "image/png": "[encoded data removed]",
            "text/plain": [
              "<Figure size 432x288 with 1 Axes>"
            ]
          },
          "metadata": {
            "tags": []
          }
        },
        {
          "output_type": "display_data",
          "data": {
            "image/png": "[encoded data removed]",
            "text/plain": [
              "<Figure size 432x288 with 1 Axes>"
            ]
          },
          "metadata": {
            "tags": []
          }
        },
        {
          "output_type": "display_data",
          "data": {
            "image/png": "[encoded data removed]",
            "text/plain": [
              "<Figure size 432x288 with 1 Axes>"
            ]
          },
          "metadata": {
            "tags": []
          }
        },
        {
          "output_type": "display_data",
          "data": {
            "image/png": "[encoded data removed]",
            "text/plain": [
              "<Figure size 432x288 with 1 Axes>"
            ]
          },
          "metadata": {
            "tags": []
          }
        },
        {
          "output_type": "display_data",
          "data": {
            "image/png": "[encoded data removed]",
            "text/plain": [
              "<Figure size 432x288 with 1 Axes>"
            ]
          },
          "metadata": {
            "tags": []
          }
        },
        {
          "output_type": "display_data",
          "data": {
            "image/png": "[encoded data removed]",
            "text/plain": [
              "<Figure size 432x288 with 1 Axes>"
            ]
          },
          "metadata": {
            "tags": []
          }
        },
        {
          "output_type": "display_data",
          "data": {
            "image/png": "[encoded data removed]",
            "text/plain": [
              "<Figure size 432x288 with 1 Axes>"
            ]
          },
          "metadata": {
            "tags": []
          }
        },
        {
          "output_type": "display_data",
          "data": {
            "image/png": "[encoded data removed]",
            "text/plain": [
              "<Figure size 432x288 with 1 Axes>"
            ]
          },
          "metadata": {
            "tags": []
          }
        }
      ]
    },
    {
      "cell_type": "code",
      "metadata": {
        "id": "QTdGj4R6C1kS",
        "colab_type": "code",
        "colab": {}
      },
      "source": [
        "class AverageMeter(object):\n",
        "    \"\"\"Computes and stores the average and current value\"\"\"\n",
        "    def __init__(self):\n",
        "        self.reset()\n",
        "\n",
        "    def reset(self):\n",
        "        self.val = 0\n",
        "        self.avg = 0\n",
        "        self.sum = 0\n",
        "        self.count = 0\n",
        "\n",
        "    def update(self, val, n=1):\n",
        "        self.val = val\n",
        "        self.sum += val * n\n",
        "        self.count += n\n",
        "        self.avg = self.sum / self.count"
      ],
      "execution_count": 0,
      "outputs": []
    },
    {
      "cell_type": "code",
      "metadata": {
        "id": "OtjxLoYCC6rp",
        "colab_type": "code",
        "colab": {}
      },
      "source": [
        "def accuracy(output, target, topk=(1,)):\n",
        "    \"\"\"Computes the precision@k for the specified values of k\"\"\"\n",
        "    #with torch.no_grad():\n",
        "    maxk = max(topk)\n",
        "    batch_size = target.size(0)\n",
        "\n",
        "    _, pred = output.topk(maxk, 1, True, True)\n",
        "    pred = pred.t()\n",
        "    correct = pred.eq(target.view(1, -1).expand_as(pred))\n",
        "\n",
        "    res = []\n",
        "    for k in topk:\n",
        "        correct_k = correct[:k].view(-1).float().sum(0, keepdim=True)\n",
        "        res.append(correct_k.mul_(100.0 / batch_size))\n",
        "    return res"
      ],
      "execution_count": 0,
      "outputs": []
    },
    {
      "cell_type": "code",
      "metadata": {
        "id": "WVTfeL4QC8Pu",
        "colab_type": "code",
        "colab": {}
      },
      "source": [
        "def calc_accuracy(model, data):\n",
        "    model.eval()\n",
        "    if use_gpu:\n",
        "        model.cuda()    \n",
        "    \n",
        "    top1 = AverageMeter()\n",
        "    top5 = AverageMeter()\n",
        "    \n",
        "    for idx, (inputs, labels) in enumerate(dataloders[data]):\n",
        "        if use_gpu:\n",
        "            inputs, labels = inputs.cuda(), labels.cuda()\n",
        "        # obtain the outputs from the model\n",
        "        outputs = model.forward(Variable(inputs))\n",
        "        prec1, prec5 = accuracy(outputs, Variable(labels), topk=(1, 5))\n",
        "        top1.update(prec1[0], inputs.size(0))\n",
        "        top5.update(prec5[0], inputs.size(0))\n",
        "        \n",
        "    return top1 ,top5\n",
        "    \n",
        "top1 ,top5 = calc_accuracy(model_ft, 'test')"
      ],
      "execution_count": 0,
      "outputs": []
    },
    {
      "cell_type": "code",
      "metadata": {
        "id": "0qdgn4mzC_A6",
        "colab_type": "code",
        "outputId": "41e483c7-dbcb-4e9f-e7cd-1e76fcd15b65",
        "colab": {
          "base_uri": "https://localhost:8080/",
          "height": 34
        }
      },
      "source": [
        "top1.avg"
      ],
      "execution_count": 0,
      "outputs": [
        {
          "output_type": "execute_result",
          "data": {
            "text/plain": [
              "tensor(69.2268, device='cuda:0')"
            ]
          },
          "metadata": {
            "tags": []
          },
          "execution_count": 39
        }
      ]
    },
    {
      "cell_type": "code",
      "metadata": {
        "id": "bxzJ4OT4DEAY",
        "colab_type": "code",
        "outputId": "2fcdfd25-3ebd-412c-e46d-a950d9786f86",
        "colab": {
          "base_uri": "https://localhost:8080/",
          "height": 34
        }
      },
      "source": [
        "top5.avg"
      ],
      "execution_count": 0,
      "outputs": [
        {
          "output_type": "execute_result",
          "data": {
            "text/plain": [
              "tensor(89.9379, device='cuda:0')"
            ]
          },
          "metadata": {
            "tags": []
          },
          "execution_count": 40
        }
      ]
    }
  ]
}